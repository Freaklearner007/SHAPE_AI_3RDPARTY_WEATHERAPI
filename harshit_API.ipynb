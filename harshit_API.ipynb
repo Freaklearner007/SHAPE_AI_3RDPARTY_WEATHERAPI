{
  "nbformat": 4,
  "nbformat_minor": 0,
  "metadata": {
    "colab": {
      "name": "harshit_API",
      "provenance": []
    },
    "kernelspec": {
      "name": "python3",
      "display_name": "Python 3"
    },
    "language_info": {
      "name": "python"
    }
  },
  "cells": [
    {
      "cell_type": "code",
      "metadata": {
        "id": "x7JxCrxZPOvN"
      },
      "source": [
        "import requests"
      ],
      "execution_count": 2,
      "outputs": []
    },
    {
      "cell_type": "code",
      "metadata": {
        "id": "0Runc3uVSte9"
      },
      "source": [
        "from datetime import datetime"
      ],
      "execution_count": 4,
      "outputs": []
    },
    {
      "cell_type": "code",
      "metadata": {
        "colab": {
          "base_uri": "https://localhost:8080/"
        },
        "id": "JORbBYoLTOjR",
        "outputId": "c3589e8c-8f81-4c5b-ad89-2e89e1f30221"
      },
      "source": [
        "api_key ='28cff38b4667f0fe1f631a3436465f8c'\n",
        "location =input(\"enter the city name   :\")\n",
        "complete_api_link= \"https://api.openweathermap.org/data/2.5/weather?q=\"+location+\"&appid=\"+api_key\n",
        "api_link = requests.get (complete_api_link)\n",
        "api_data = api_link.json()\n",
        "\n",
        "temp_city= ((api_data['main']['temp'])-273.15)\n",
        "\n",
        "weather_desc = api_data['weather'][0]['description']\n",
        "\n",
        "hmdt = api_data['main']['humidity']\n",
        "\n",
        "wind_spd = api_data['wind' ]['speed']\n",
        "\n",
        "date_time = datetime.now().strftime (\"%d %b %Y %I:%M:%S %p\")\n",
        "\n",
        "print (\"---------------------------------------------------------------\") \n",
        "print (\"Weather Stats for {} || {}\".format(location.upper(), date_time))\n",
        "print (\"-------------------------------------------------------------\")\n",
        "\n",
        "print (\"Current temperature is: {:.2f} deg C\". format (temp_city))\n",
        "\n",
        "print (\"Current weather desc :\", weather_desc)\n",
        "\n",
        "print (\"Current Humidity :\", hmdt, '%')\n",
        "\n",
        "print (\"Current wind speed :\",wind_spd,'kmph')"
      ],
      "execution_count": 11,
      "outputs": [
        {
          "output_type": "stream",
          "text": [
            "enter the city name   :ranchi\n",
            "---------------------------------------------------------------\n",
            "Weather Stats for RANCHI || 22 Jun 2021 11:05:22 AM\n",
            "-------------------------------------------------------------\n",
            "Current temperature is: 24.06 deg C\n",
            "Current weather desc : haze\n",
            "Current Humidity : 100 %\n",
            "Current wind speed : 2.57 kmph\n"
          ],
          "name": "stdout"
        }
      ]
    }
  ]
}